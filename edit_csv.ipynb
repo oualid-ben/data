{
 "cells": [
  {
   "cell_type": "code",
   "execution_count": 5,
   "id": "dc49d8e9",
   "metadata": {},
   "outputs": [],
   "source": [
    "import pandas as pd\n",
    "  \n",
    "# reading the csv file\n",
    "df = pd.read_csv(\"ins_cl_dataset.csv\")"
   ]
  },
  {
   "cell_type": "code",
   "execution_count": 7,
   "id": "c8876c7c",
   "metadata": {},
   "outputs": [
    {
     "data": {
      "text/plain": [
       "0      2\n",
       "1      0\n",
       "2      3\n",
       "3      2\n",
       "4      1\n",
       "      ..\n",
       "995    1\n",
       "996    3\n",
       "997    3\n",
       "998    1\n",
       "999    3\n",
       "Name: witnesses, Length: 1000, dtype: int64"
      ]
     },
     "execution_count": 7,
     "metadata": {},
     "output_type": "execute_result"
    }
   ],
   "source": [
    "df[\"witnesses\"]"
   ]
  },
  {
   "cell_type": "code",
   "execution_count": null,
   "id": "820647c1",
   "metadata": {},
   "outputs": [],
   "source": [
    "data = df.drop([\"months_as_customer\",\"age\",\"policy_number\",\"policy_bind_date\",\"policy_state\",\"policy_csl\",\"policy_deductable\",\"policy_annual_premium\",\"umbrella_limit\",\"insured_zip\",\"insured_sex\",\"insured_education_level\",\"insured_occupation\",\"insured_hobbies\",\"insured_relationship\",\"capital-gains\",\"capital-loss\",\"incident_date\",\"incident_type\",\"collision_type\",\"incident_severity\",\"authorities_contacted\",\"incident_state\",\"incident_city\",\"incident_location\",\"incident_hour_of_the_day\",\"number_of_vehicles_involved\",\"property_damage\",\"bodily_injuries\",\"police_report_available\",total_claim_amount\tinjury_claim\tproperty_claim\tvehicle_claim\tauto_make\tauto_model\tauto_year,\"fraud_reported\"], axis=1)"
   ]
  },
  {
   "cell_type": "code",
   "execution_count": null,
   "id": "d76644f7",
   "metadata": {},
   "outputs": [],
   "source": [
    "data.to_csv(\"output_filename.csv\", index=False, encoding='utf8')"
   ]
  }
 ],
 "metadata": {
  "kernelspec": {
   "display_name": "Python 3 (ipykernel)",
   "language": "python",
   "name": "python3"
  },
  "language_info": {
   "codemirror_mode": {
    "name": "ipython",
    "version": 3
   },
   "file_extension": ".py",
   "mimetype": "text/x-python",
   "name": "python",
   "nbconvert_exporter": "python",
   "pygments_lexer": "ipython3",
   "version": "3.9.7"
  }
 },
 "nbformat": 4,
 "nbformat_minor": 5
}
